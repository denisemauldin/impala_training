{
 "cells": [
  {
   "cell_type": "markdown",
   "metadata": {},
   "source": [
    "# Interacting with impala using python"
   ]
  },
  {
   "cell_type": "markdown",
   "metadata": {},
   "source": [
    "Connecting to impala is easy using the [impyla](https://github.com/cloudera/impyla) or [ibis](https://github.com/cloudera/ibis) module. Since the Ibis module is still under devlopment, this tutorial will only cover impyla.\n",
    "\n",
    "To install impyla:"
   ]
  },
  {
   "cell_type": "code",
   "execution_count": null,
   "metadata": {
    "collapsed": true
   },
   "outputs": [],
   "source": [
    "pip install impyla"
   ]
  },
  {
   "cell_type": "markdown",
   "metadata": {},
   "source": [
    "If pip is not installed on your system, you can visit [this website](http://pip.readthedocs.org/en/stable/installing/) or install pip using anaconda:"
   ]
  },
  {
   "cell_type": "code",
   "execution_count": null,
   "metadata": {
    "collapsed": true
   },
   "outputs": [],
   "source": [
    "conda install pip"
   ]
  },
  {
   "cell_type": "markdown",
   "metadata": {},
   "source": [
    "## Creating a Connection"
   ]
  },
  {
   "cell_type": "markdown",
   "metadata": {},
   "source": [
    "To connect to impala, first create a connection string specifying your impala hostname and port. The default port for impala is 21050."
   ]
  },
  {
   "cell_type": "code",
   "execution_count": 4,
   "metadata": {
    "collapsed": true
   },
   "outputs": [],
   "source": [
    "from impala.dbapi import connect\n",
    "\n",
    "#create a connection, replace 'impala_host' with your host name\n",
    "conn=connect(host='impala_host', port=21050)"
   ]
  },
  {
   "cell_type": "markdown",
   "metadata": {},
   "source": [
    "Once you setup the connection string, you can create a cursor object for intereacting with the database:"
   ]
  },
  {
   "cell_type": "code",
   "execution_count": 19,
   "metadata": {
    "collapsed": true
   },
   "outputs": [],
   "source": [
    "#to connect to specific database, use the database argument\n",
    "#conn=connect(host='impala_host', port=21050, database=\"public_hg19\")\n",
    "\n",
    "#create a cursor object to interact with the db\n",
    "cur = conn.cursor()"
   ]
  },
  {
   "cell_type": "code",
   "execution_count": 20,
   "metadata": {
    "collapsed": false
   },
   "outputs": [
    {
     "name": "stdout",
     "output_type": "stream",
     "text": [
      "<impala.hiveserver2.HiveServer2Cursor object at 0x10372d990>\n"
     ]
    }
   ],
   "source": [
    "# view cursor object\n",
    "print cur"
   ]
  },
  {
   "cell_type": "markdown",
   "metadata": {},
   "source": [
    "## Run Queries"
   ]
  },
  {
   "cell_type": "markdown",
   "metadata": {},
   "source": [
    "Python interacts with impala by executing sql queries using cur.execute() to execute the query, and then using cur.fetchall() to grab the results.\n",
    "\n",
    "Print results to screen: \n",
    "\n",
    "    # execute sql query\n",
    "    cur.execute('SQL query')\n",
    "    # grab results\n",
    "    cur.fetchall()\n",
    "    # print results\n",
    "    for row in cur.fetchall():\n",
    "        print row\n",
    "\n",
    "Save results as pandas table:\n",
    "\n",
    "    # import pandas impala api\n",
    "    from impala.util import as_pandas \n",
    "    # execute sql query\n",
    "    cur.execute('SQL query')\n",
    "    # grab results as dataframe\n",
    "    results = as_pandas(cur)"
   ]
  },
  {
   "cell_type": "markdown",
   "metadata": {},
   "source": [
    "## View available databases and tables"
   ]
  },
  {
   "cell_type": "markdown",
   "metadata": {},
   "source": [
    "To see what databases are available in impala, let's run a simple SQL statement to view available databases 'SHOW databases'. "
   ]
  },
  {
   "cell_type": "code",
   "execution_count": 18,
   "metadata": {
    "collapsed": false
   },
   "outputs": [
    {
     "name": "stdout",
     "output_type": "stream",
     "text": [
      "('__ibis_tmp',)\n",
      "('_impala_builtins',)\n",
      "('clarity2',)\n",
      "('default',)\n",
      "('p7_archive',)\n",
      "('p7_itmi',)\n",
      "('p7_platform',)\n",
      "('p7_ref_grch37',)\n",
      "('p7_staging',)\n",
      "('users_hrishi',)\n",
      "('users_selasady',)\n"
     ]
    }
   ],
   "source": [
    "#view available databases\n",
    "cur.execute('SHOW DATABASES')\n",
    "\n",
    "#fetch results of cur.execute()\n",
    "for row in cur.fetchall():\n",
    "    print row"
   ]
  },
  {
   "cell_type": "markdown",
   "metadata": {},
   "source": [
    "Let's take a look at the public resources available for the grch37 build by first selecting that database (p7_ref_grch37) with a SQL USE statement 'USE p7_ref_grch37', then asking to see all the tables in that database:"
   ]
  },
  {
   "cell_type": "code",
   "execution_count": 17,
   "metadata": {
    "collapsed": false
   },
   "outputs": [
    {
     "name": "stdout",
     "output_type": "stream",
     "text": [
      "('acmg_ensembl',)\n",
      "('acmg_genes',)\n",
      "('cadd',)\n",
      "('clinvar',)\n",
      "('clinvar_summary',)\n",
      "('cytoband',)\n",
      "('dann',)\n",
      "('dbnsfp_variant',)\n",
      "('dbsnp',)\n",
      "('ensembl_genes',)\n",
      "('esp_exomes',)\n",
      "('global_variants',)\n",
      "('go_goa',)\n",
      "('kaviar',)\n",
      "('kaviar_isb',)\n",
      "('mirbase',)\n",
      "('nbs_ensembl',)\n",
      "('nbs_genes',)\n",
      "('pfam_clans',)\n",
      "('pfam_regions',)\n",
      "('refseq',)\n",
      "('refseq_map',)\n",
      "('repeatmasker',)\n",
      "('ucsc_genes',)\n",
      "('ucsc_genomicsuperdups',)\n",
      "('ucsc_kgxref',)\n",
      "('ucsc_knowngene',)\n",
      "('uniprot',)\n"
     ]
    }
   ],
   "source": [
    "#select a particular database to use\n",
    "cur.execute('USE p7_ref_grch37')\n",
    "\n",
    "#view tables in selected database \n",
    "#if no db is selected, you will see tables in default db\n",
    "cur.execute('SHOW TABLES')\n",
    "\n",
    "# view results\n",
    "for row in cur.fetchall():\n",
    "    print row"
   ]
  },
  {
   "cell_type": "markdown",
   "metadata": {},
   "source": [
    "### Viewing table information"
   ]
  },
  {
   "cell_type": "markdown",
   "metadata": {},
   "source": [
    "In order to match up fields from different tables, it helps to have more information about what each table contains. The SQL \"DESCRIBE\" statement can be used to find out column names, data types and a description of the contents:"
   ]
  },
  {
   "cell_type": "code",
   "execution_count": 11,
   "metadata": {
    "collapsed": false
   },
   "outputs": [
    {
     "name": "stdout",
     "output_type": "stream",
     "text": [
      "('chrom', 'string', 'Chromosome number')\n",
      "('start', 'int', 'Start position in genoSeq (renamed from chromstart)')\n",
      "('stop', 'int', 'End position in genoSeq (renamed from chromend)')\n",
      "('name', 'string', 'Name of cytogenetic band')\n",
      "('gie_stain', 'string', 'Giesma stain results (renamed from gieStain)')\n"
     ]
    }
   ],
   "source": [
    "cur.execute('DESCRIBE p7_ref_grch37.cytoband')\n",
    "for row in cur.fetchall():\n",
    "    print row"
   ]
  },
  {
   "cell_type": "markdown",
   "metadata": {},
   "source": [
    "## Connect to a table as pandas dataframe"
   ]
  },
  {
   "cell_type": "code",
   "execution_count": 24,
   "metadata": {
    "collapsed": true
   },
   "outputs": [],
   "source": [
    "# import pandas impala api\n",
    "from impala.util import as_pandas \n",
    "# execute sql query\n",
    "cur.execute('SELECT * from p7_ref_grch37.clinvar LIMIT 5')\n",
    "# grab results as dataframe\n",
    "clinvar = as_pandas(cur)"
   ]
  },
  {
   "cell_type": "code",
   "execution_count": 25,
   "metadata": {
    "collapsed": false
   },
   "outputs": [
    {
     "name": "stdout",
     "output_type": "stream",
     "text": [
      "  chrom     pos        rs_id ref alt  qual filter     rs_pos    rv    vp  \\\n",
      "0     1  883516  rs267598747   G   A  None   None  267598747  None  None   \n",
      "1     1  891344  rs267598748   G   A  None   None  267598748  None  None   \n",
      "2     1  906168  rs267598759   G   A  None   None  267598759  None  None   \n",
      "3     1  949696  rs672601345   C  CG  None   None  672601345  None  None   \n",
      "4     1  949739  rs672601312   G   T  None   None  672601312  None  None   \n",
      "\n",
      "        ...       clin_allele              clin_src  clin_origin  clin_src_id  \\\n",
      "0       ...                 1                     .            2            .   \n",
      "1       ...                 1                     .            2            .   \n",
      "2       ...                 1                     .            2            .   \n",
      "3       ...                 1  OMIM_Allelic_Variant            1  147571.0002   \n",
      "4       ...                 1  OMIM_Allelic_Variant            1  147571.0001   \n",
      "\n",
      "   clin_sig         clin_dsdb      clin_dsdb_id             clin_dbn  \\\n",
      "0       255  MedGen:SNOMED_CT  C0025202:2092003   Malignant_melanoma   \n",
      "1       255  MedGen:SNOMED_CT  C0025202:2092003   Malignant_melanoma   \n",
      "2       255  MedGen:SNOMED_CT  C0025202:2092003   Malignant_melanoma   \n",
      "3         5       MedGen:OMIM   CN221808:616126  Immunodeficiency_38   \n",
      "4         5       MedGen:OMIM   CN221808:616126  Immunodeficiency_38   \n",
      "\n",
      "  clin_revstat        clin_acc  \n",
      "0          not  RCV000064926.2  \n",
      "1          not  RCV000064927.2  \n",
      "2          not  RCV000064940.2  \n",
      "3       single  RCV000148989.2  \n",
      "4       single  RCV000148988.2  \n",
      "\n",
      "[5 rows x 65 columns]\n"
     ]
    }
   ],
   "source": [
    "print clinvar"
   ]
  },
  {
   "cell_type": "code",
   "execution_count": null,
   "metadata": {
    "collapsed": true
   },
   "outputs": [],
   "source": []
  }
 ],
 "metadata": {
  "kernelspec": {
   "display_name": "Python 2",
   "language": "python",
   "name": "python2"
  },
  "language_info": {
   "codemirror_mode": {
    "name": "ipython",
    "version": 2
   },
   "file_extension": ".py",
   "mimetype": "text/x-python",
   "name": "python",
   "nbconvert_exporter": "python",
   "pygments_lexer": "ipython2",
   "version": "2.7.10"
  }
 },
 "nbformat": 4,
 "nbformat_minor": 0
}
