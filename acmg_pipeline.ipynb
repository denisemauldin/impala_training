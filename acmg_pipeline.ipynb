{
 "cells": [
  {
   "cell_type": "markdown",
   "metadata": {},
   "source": [
    "# Finding ACMG Genes"
   ]
  },
  {
   "cell_type": "markdown",
   "metadata": {},
   "source": [
    "Variants were annotated with the ACMG actionable gene table. Variants located in ACMG gene regions were annotated with Kaviar frequency, ClinVar clinical significance ratings, DANN predicted pathogenicity scores for SNV's, and coding consequence predictions using SnpEff.\n",
    "Variants were filtered for appropriate mode of inheritance and then labeled as predictive when meeting the following conditions:\n",
    "Presence of mutation(s) with appropriate inheritance (eg, 2 bi-allelic pathogenic mutations for a recessive disorder).  \n",
    "\n",
    "Mutations defined strictly as either:\n",
    "- Annotated in ClinVar with a clinical significance of 4 or 5, but never 2 or 3 or labeled pathogenic in HGMD (to be added later)  \n",
    "OR    \n",
    "- Novel (in Kaviar with frequency less than .03 or not in Kaviar) but either predicted to be disease-causing with a SnpEff impact score of 'high' or a DANN score higher than specified cutoff below"
   ]
  },
  {
   "cell_type": "markdown",
   "metadata": {},
   "source": [
    "## User Specified Parameters"
   ]
  },
  {
   "cell_type": "code",
   "execution_count": 3,
   "metadata": {
    "collapsed": true
   },
   "outputs": [],
   "source": [
    "# specify your impala host\n",
    "impala_host = 'glados19'\n",
    "\n",
    "#############\n",
    "## kaviar ##\n",
    "############\n",
    "# enter kaviar frequency threshold\n",
    "kav_freq = '.03'\n",
    "\n",
    "###############\n",
    "## family id ##\n",
    "###############\n",
    "# uncomment for list \n",
    "sample_list = 'all'\n",
    "\n",
    "####################\n",
    "## trio member(s) ##\n",
    "####################\n",
    "trio_member = 'all'\n",
    "\n",
    "################\n",
    "## dann_score ##\n",
    "################\n",
    "# enter minimum dann score for predicted NBS\n",
    "dann_score = '0.96'\n",
    "\n",
    "########################\n",
    "## database locations ##\n",
    "########################\n",
    "# enter database.name for variant table\n",
    "variant_table = 'training.illumina_vars'\n",
    "# enter database.name of global variants table\n",
    "gv_table = 'training.global_vars'\n",
    "# enter user database to output tables\n",
    "out_db = 'training'\n",
    "# enter desired basename for output files\n",
    "out_name = 'clarity_acmg_genes'"
   ]
  },
  {
   "cell_type": "markdown",
   "metadata": {},
   "source": [
    "## Adding positional information to the ACMG gene list¶"
   ]
  },
  {
   "cell_type": "markdown",
   "metadata": {},
   "source": [
    "Chromosome, start and stop positions were added to the ACMG Gene list by joining it with the ensembl_genes table using gene name.\n",
    "\n",
    "    CREATE TABLE acmg_ensembl AS (\n",
    "        SELECT acmg.*, ens.chrom, ens.start, ens.stop, ens.gene_name, \n",
    "        ens.gene_id, ens.transcript_id\n",
    "        FROM p7_ref_grch37.acmg_genes acmg, p7_ref_grch37.ensembl_genes ens\n",
    "        WHERE acmg.gene = ens.gene_name\n",
    "     )\n",
    "\n",
    "The results were saved as training.acmg_ensembl"
   ]
  },
  {
   "cell_type": "markdown",
   "metadata": {},
   "source": [
    "## Parse User Arguments"
   ]
  },
  {
   "cell_type": "code",
   "execution_count": 2,
   "metadata": {
    "collapsed": true
   },
   "outputs": [],
   "source": [
    "# format trio argument\n",
    "member_list = []\n",
    "for member in trio_member:\n",
    "    if member == 'NB':\n",
    "        member_list.append(\"bv.sample_id LIKE '%03'\")\n",
    "    if member == 'M':\n",
    "        member_list.append(\"bv.sample_id LIKE '%01'\")\n",
    "    if member == 'F':\n",
    "        member_list.append(\"bv.sample_id LIKE '%02'\")\n",
    "    if member_list == 'all':\n",
    "        member_list =''\n",
    "        \n",
    "# if the member argument is not empty create statement\n",
    "if len(member_list) > 0:\n",
    "    member_arg = 'AND (' + ' OR '.join(member_list) + ')'\n",
    "# otherwise statment is empty\n",
    "else: member_arg = ''\n",
    "\n",
    "# format sample id argument\n",
    "sample_arg = []\n",
    "if sample_list != 'all':\n",
    "    sample_arg.append(\"AND bv.sample_id IN \" + str(sample_list))\n",
    "    subject_list = \", \".join(str(i) for i in sample_arg)\n",
    "else: \n",
    "    subject_list = ''\n",
    "\n",
    "# list of user args to join \n",
    "arg_list = [subject_list, member_arg]\n",
    "\n",
    "# if there's an argument, format\n",
    "if len(arg_list) > 0:\n",
    "    subject_statement = ' '.join(arg_list)\n",
    "# otherwise return empty string\n",
    "else:\n",
    "    subject_statement = ''"
   ]
  },
  {
   "cell_type": "markdown",
   "metadata": {},
   "source": [
    "## Connecting to Impala "
   ]
  },
  {
   "cell_type": "code",
   "execution_count": 4,
   "metadata": {
    "collapsed": true
   },
   "outputs": [],
   "source": [
    "# connect to impala\n",
    "from impala.dbapi import connect\n",
    "from impala.util import as_pandas\n",
    "\n",
    "# to connect to specific database, use the database argument\n",
    "conn=connect(host=impala_host, port=21050)"
   ]
  },
  {
   "cell_type": "code",
   "execution_count": null,
   "metadata": {
    "collapsed": true
   },
   "outputs": [],
   "source": [
    "acmg_query = '''\n",
    "\n",
    "\n",
    "'''\n",
    "\n",
    "# open connection, run query, close connection \n",
    "def run_query(query_name, db_name):\n",
    "    cur = conn.cursor()\n",
    "    # run query \n",
    "    print 'Running the following query on impala: \\n' + query_name\n",
    "    cur = conn.cursor()\n",
    "    cur.execute(query_name)\n",
    "    print 'Query finished. Please note that the 1/2 genotype was converted to 0/1 for downstream compatibility. \\n Closing connection.'\n",
    "    cur.close()\n",
    "\n",
    "# run kaviar annotation query\n",
    "run_query(kaviar_query, 'acmg_query')"
   ]
  },
  {
   "cell_type": "markdown",
   "metadata": {},
   "source": [
    "## Examine MOI"
   ]
  },
  {
   "cell_type": "code",
   "execution_count": null,
   "metadata": {
    "collapsed": true
   },
   "outputs": [],
   "source": [
    "# subset data frame by trio member\n",
    "newborns = acmg_annot[acmg_annot['member'] == 'NB']\n",
    "mothers = acmg_annot[acmg_annot['member'] == 'M']\n",
    "fathers = acmg_annot[acmg_annot['member'] == 'F']"
   ]
  },
  {
   "cell_type": "markdown",
   "metadata": {},
   "source": [
    "The newborn subset was split to report predictive variants for:  \n",
    "\n",
    "- All variants in regions of dominant disorders  \n",
    "- All homozygous recessive variants in regions of autosomal recessive disorders  \n",
    "- All heterozygous variants in autosomal recessive regions for downstream analysis of compound heterozygosity"
   ]
  },
  {
   "cell_type": "code",
   "execution_count": null,
   "metadata": {
    "collapsed": true
   },
   "outputs": [],
   "source": [
    "# disable erroneous pandas warning\n",
    "pd.options.mode.chained_assignment = None\n",
    "\n",
    "# subset variants by variant MOI and/or zygosity\n",
    "nb_dominant = newborns[((newborns['inheritance'] == 'AD') & (newborns['predictive'] == True))]\n",
    "nb_dominant.name = 'dominant'\n",
    "\n",
    "nb_hom_recessive = newborns[((newborns['inheritance'] == 'AR') & (newborns['gt'] == '1/1') & (newborns['predictive'] == True))]\n",
    "nb_hom_recessive.name = 'hom_recessive'\n",
    "\n",
    "nb_het = newborns[((newborns['inheritance'] == 'AR') & (newborns['gt'] == '0/1') & (newborns['predictive'] == True))]"
   ]
  },
  {
   "cell_type": "markdown",
   "metadata": {},
   "source": [
    "### Locate Potential Compound Heterozygots"
   ]
  },
  {
   "cell_type": "code",
   "execution_count": null,
   "metadata": {
    "collapsed": true
   },
   "outputs": [],
   "source": []
  }
 ],
 "metadata": {
  "kernelspec": {
   "display_name": "Python 2",
   "language": "python",
   "name": "python2"
  },
  "language_info": {
   "codemirror_mode": {
    "name": "ipython",
    "version": 2
   },
   "file_extension": ".py",
   "mimetype": "text/x-python",
   "name": "python",
   "nbconvert_exporter": "python",
   "pygments_lexer": "ipython2",
   "version": "2.7.10"
  }
 },
 "nbformat": 4,
 "nbformat_minor": 0
}
