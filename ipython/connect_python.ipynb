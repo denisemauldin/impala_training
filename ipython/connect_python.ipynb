{
 "cells": [
  {
   "cell_type": "markdown",
   "metadata": {},
   "source": [
    "# Interacting with impala using python"
   ]
  },
  {
   "cell_type": "markdown",
   "metadata": {},
   "source": [
    "Connecting to impala is easy using the [impyla](https://github.com/cloudera/impyla) or [ibis](https://github.com/cloudera/ibis) module. Since the Ibis module is still under devlopment, this tutorial will only cover impyla.\n",
    "\n",
    "To install impyla:"
   ]
  },
  {
   "cell_type": "code",
   "execution_count": null,
   "metadata": {
    "collapsed": true
   },
   "outputs": [],
   "source": [
    "pip install impyla"
   ]
  },
  {
   "cell_type": "markdown",
   "metadata": {},
   "source": [
    "If pip is not installed on your system, you can visit [this website](http://pip.readthedocs.org/en/stable/installing/) or install pip using anaconda:"
   ]
  },
  {
   "cell_type": "code",
   "execution_count": null,
   "metadata": {
    "collapsed": true
   },
   "outputs": [],
   "source": [
    "conda install pip"
   ]
  },
  {
   "cell_type": "markdown",
   "metadata": {},
   "source": [
    "## Creating a Connection"
   ]
  },
  {
   "cell_type": "markdown",
   "metadata": {},
   "source": [
    "To connect to impala, first create a connection string specifying your impala hostname and port. The default port for impala is 21050."
   ]
  },
  {
   "cell_type": "code",
   "execution_count": null,
   "metadata": {
    "collapsed": true
   },
   "outputs": [],
   "source": [
    "from impala.dbapi import connect\n",
    "\n",
    "#create a connection, replace 'impala_host' with your host name\n",
    "conn=connect(host='impala_host', port=21050)"
   ]
  },
  {
   "cell_type": "markdown",
   "metadata": {},
   "source": [
    "Once you setup the connection string, you can create a cursor object for intereacting with the database:"
   ]
  },
  {
   "cell_type": "code",
   "execution_count": null,
   "metadata": {
    "collapsed": true
   },
   "outputs": [],
   "source": [
    "#to connect to specific database, use the database argument\n",
    "#conn=connect(host='impala_host', port=21050, database=\"public_hg19\")\n",
    "\n",
    "#create a cursor object to interact with the db\n",
    "cur = conn.cursor()"
   ]
  },
  {
   "cell_type": "code",
   "execution_count": null,
   "metadata": {
    "collapsed": false
   },
   "outputs": [],
   "source": [
    "# view cursor object\n",
    "print cur"
   ]
  },
  {
   "cell_type": "markdown",
   "metadata": {},
   "source": [
    "## Run Queries"
   ]
  },
  {
   "cell_type": "markdown",
   "metadata": {},
   "source": [
    "Python interacts with impala by executing sql queries using cur.execute() to execute the query, and then using cur.fetchall() to grab the results.\n",
    "\n",
    "Print results to screen: \n",
    "\n",
    "    # execute sql query\n",
    "    cur.execute('SQL query')\n",
    "    # grab results\n",
    "    cur.fetchall()\n",
    "    # print results\n",
    "    for row in cur.fetchall():\n",
    "        print row\n",
    "\n",
    "Save results as pandas table:\n",
    "\n",
    "    # import pandas impala api\n",
    "    from impala.util import as_pandas \n",
    "    # execute sql query\n",
    "    cur.execute('SQL query')\n",
    "    # grab results as dataframe\n",
    "    results = as_pandas(cur)"
   ]
  },
  {
   "cell_type": "markdown",
   "metadata": {},
   "source": [
    "## View available databases and tables"
   ]
  },
  {
   "cell_type": "markdown",
   "metadata": {},
   "source": [
    "To see what databases are available in impala, let's run a simple SQL statement to view available databases 'SHOW databases'. "
   ]
  },
  {
   "cell_type": "code",
   "execution_count": null,
   "metadata": {
    "collapsed": false
   },
   "outputs": [],
   "source": [
    "#view available databases\n",
    "cur.execute('SHOW DATABASES')\n",
    "\n",
    "#fetch results of cur.execute()\n",
    "for row in cur.fetchall():\n",
    "    print row"
   ]
  },
  {
   "cell_type": "markdown",
   "metadata": {},
   "source": [
    "Let's take a look at the public resources available for the grch37 build by first selecting that database (p7_ref_grch37) with a SQL USE statement 'USE p7_ref_grch37', then asking to see all the tables in that database:"
   ]
  },
  {
   "cell_type": "code",
   "execution_count": null,
   "metadata": {
    "collapsed": false
   },
   "outputs": [],
   "source": [
    "#select a particular database to use\n",
    "cur.execute('USE p7_ref_grch37')\n",
    "\n",
    "#view tables in selected database \n",
    "#if no db is selected, you will see tables in default db\n",
    "cur.execute('SHOW TABLES')\n",
    "\n",
    "# view results\n",
    "for row in cur.fetchall():\n",
    "    print row"
   ]
  },
  {
   "cell_type": "markdown",
   "metadata": {},
   "source": [
    "### Viewing table information"
   ]
  },
  {
   "cell_type": "markdown",
   "metadata": {},
   "source": [
    "In order to match up fields from different tables, it helps to have more information about what each table contains. The SQL \"DESCRIBE\" statement can be used to find out column names, data types and a description of the contents:"
   ]
  },
  {
   "cell_type": "code",
   "execution_count": null,
   "metadata": {
    "collapsed": false
   },
   "outputs": [],
   "source": [
    "cur.execute('DESCRIBE p7_ref_grch37.cytoband')\n",
    "for row in cur.fetchall():\n",
    "    print row"
   ]
  },
  {
   "cell_type": "markdown",
   "metadata": {},
   "source": [
    "## Connect to a table as pandas dataframe"
   ]
  },
  {
   "cell_type": "code",
   "execution_count": null,
   "metadata": {
    "collapsed": true
   },
   "outputs": [],
   "source": [
    "# import pandas impala api\n",
    "from impala.util import as_pandas \n",
    "# execute sql query\n",
    "cur.execute('SELECT * from p7_ref_grch37.clinvar LIMIT 5')\n",
    "# grab results as dataframe\n",
    "clinvar = as_pandas(cur)"
   ]
  },
  {
   "cell_type": "code",
   "execution_count": null,
   "metadata": {
    "collapsed": false
   },
   "outputs": [],
   "source": [
    "print clinvar"
   ]
  },
  {
   "cell_type": "markdown",
   "metadata": {
    "collapsed": true
   },
   "source": [
    "## Close connection to impala"
   ]
  },
  {
   "cell_type": "markdown",
   "metadata": {},
   "source": [
    "Once you are finished with a query, it's important to close the connection object. "
   ]
  },
  {
   "cell_type": "code",
   "execution_count": null,
   "metadata": {
    "collapsed": true
   },
   "outputs": [],
   "source": [
    "conn.close()"
   ]
  }
 ],
 "metadata": {
  "kernelspec": {
   "display_name": "Python 2",
   "language": "python",
   "name": "python2"
  },
  "language_info": {
   "codemirror_mode": {
    "name": "ipython",
    "version": 2
   },
   "file_extension": ".py",
   "mimetype": "text/x-python",
   "name": "python",
   "nbconvert_exporter": "python",
   "pygments_lexer": "ipython2",
   "version": "2.7.10"
  }
 },
 "nbformat": 4,
 "nbformat_minor": 0
}
