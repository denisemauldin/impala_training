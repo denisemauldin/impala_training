{
 "cells": [
  {
   "cell_type": "markdown",
   "metadata": {},
   "source": [
    "# Python Variant Pipeline"
   ]
  },
  {
   "cell_type": "markdown",
   "metadata": {},
   "source": [
    "Use this python script to connect to impala, find variants in subjects and gene regions of interest, annotate them with the following list of annotations, and save results to a file or impala table: \n",
    "\n",
    "- Kaviar allele frequency\n",
    "- ClinVar significance rating and disorder description\n",
    "- dbSNP rsID\n",
    "- DANN pathogenicity rating\n",
    "- Ensembl gene name and gene id\n",
    "- Predicted coding consequences"
   ]
  },
  {
   "cell_type": "markdown",
   "metadata": {},
   "source": [
    "## Setup your parameters"
   ]
  },
  {
   "cell_type": "markdown",
   "metadata": {},
   "source": [
    "Each of the following parameters should be entered in python list format unless otherwise specified. Or as 'all' to skip that particular filter. "
   ]
  },
  {
   "cell_type": "code",
   "execution_count": 170,
   "metadata": {
    "collapsed": true
   },
   "outputs": [],
   "source": [
    "# list of genes to search in\n",
    "gene_list = ['CYP%']\n",
    "\n",
    "# subject id's to include\n",
    "subject_list = ['102-00511%']\n",
    "\n",
    "# members to include (NB, M, F) or 'all'\n",
    "member_list = ['NB', 'F']\n",
    "\n",
    "# genotype to include ('hom_rec', 'hom_alt', 'het') or 'all'\n",
    "geno_list = ['hom_rec']\n",
    "\n",
    "# max kaviar allele frequency to return, formatted as string, or 'all'\n",
    "max_kav_freq = '.03'\n",
    "\n",
    "# return only variants markes as non-conflicted significant in clinvar\n",
    "# (siginicance rating of 4 or 5, but never 2 or 3)\n",
    "# enter as 'yes' or 'no'\n",
    "clin_patho = 'yes'\n",
    "\n",
    "# minimum dann score to return\n",
    "min_dann = 'all'\n",
    "\n",
    "# return only variants with 'HIGH' coding consequences\n",
    "# enter 'yes' or 'no'\n",
    "coding_impact = 'yes'\n",
    "\n",
    "# enter variant type as string 'illumina' or 'comgen'\n",
    "variant_type = 'illumina'"
   ]
  },
  {
   "cell_type": "markdown",
   "metadata": {},
   "source": [
    "## Query impala"
   ]
  },
  {
   "cell_type": "markdown",
   "metadata": {},
   "source": [
    "### Connect to impala"
   ]
  },
  {
   "cell_type": "code",
   "execution_count": 2,
   "metadata": {
    "collapsed": true
   },
   "outputs": [],
   "source": [
    "import ibis\n",
    "import os\n",
    "\n",
    "# connect to impala with ibis\n",
    "hdfs_port = os.environ.get('glados20', 50070)\n",
    "hdfs = ibis.hdfs_connect(host='glados20', port=hdfs_port, user='selasady')\n",
    "con = ibis.impala.connect(host='glados19', port=21050, timeout=120)\n",
    "\n",
    "# enable interactive mode\n",
    "ibis.options.interactive = True"
   ]
  },
  {
   "cell_type": "markdown",
   "metadata": {},
   "source": [
    "### Create functions to parse user arguments"
   ]
  },
  {
   "cell_type": "code",
   "execution_count": 173,
   "metadata": {
    "collapsed": false
   },
   "outputs": [],
   "source": [
    "def label_member(tbl_name, trio_arg):\n",
    "    \"\"\"\n",
    "    function to create a sql statement from user trio argument for which\n",
    "    trio members to include in analysis\n",
    "    :param tbl_name: alias of tablename used in query as string, ex. 'bv'\n",
    "    :param trio_arg: list of trio members to include, ex. 'M','F','NB'\n",
    "    :return: member_arg\n",
    "    \"\"\"\n",
    "    member_list = []\n",
    "    for member in trio_arg:\n",
    "        if member == 'NB':\n",
    "            member_list.append(\"{}.sample_id LIKE '%03'\".format(tbl_name))\n",
    "        if member == 'M':\n",
    "            member_list.append(\"{}.sample_id LIKE '%01'\".format(tbl_name))\n",
    "        if member == 'F':\n",
    "            member_list.append(\"{}.sample_id LIKE '%02'\".format(tbl_name))\n",
    "        if member_list == 'all':\n",
    "            member_list =''\n",
    "    if len(member_list) > 0:\n",
    "        member_arg = 'AND (' + ' OR '.join(member_list) + ')'\n",
    "    # otherwise statment is empty\n",
    "    else:\n",
    "        member_arg = ''\n",
    "    return member_arg\n",
    "\n",
    "def parse_arg_list(tbl_name, col_name, arg_list):\n",
    "    \"\"\"\n",
    "    format user arg lists \n",
    "    :param tbl_name: alias of tablename used in query as string, ex. 'vars'\n",
    "    :param arg_list: user arg list to parse\n",
    "    :return: query_arg assign to a variable to create sql statements\n",
    "    \"\"\"\n",
    "    wildcard_arg=[]\n",
    "    reg_arg = []\n",
    "    args = []\n",
    "    if arg_list != 'all':\n",
    "        for arg in arg_list:\n",
    "            if '%' in arg:\n",
    "                wildcard_arg.append(arg)\n",
    "            else: \n",
    "                reg_arg.append(arg)\n",
    "    else:\n",
    "        reg_arg = ''\n",
    "        wildcard_arg = ''\n",
    "    if len(wildcard_arg) > 1:\n",
    "        for arg in wildcard_arg:\n",
    "            args.append(\"OR {}.{} LIKE ('{}')\".format(tbl_name, col_name, arg))\n",
    "    elif len(wildcard_arg) == 1:\n",
    "        for arg in wildcard_arg:\n",
    "            args.append(\"OR {}.{} LIKE ('{}')\".format(tbl_name, col_name, arg))\n",
    "    elif len(reg_arg) == 1:\n",
    "        args.append(\"OR {}.{} = '{}'\".format(tbl_name, col_name, \"','\".join(reg_arg)))\n",
    "    elif len(reg_arg) > 1:\n",
    "        args.append(\"OR {}.{} IN ('{}')\".format(tbl_name, col_name, \"','\".join(reg_arg)))\n",
    "    query_statement = ' '.join(args).replace('OR', 'AND', 1)\n",
    "    return query_statement\n",
    "\n",
    "def parse_clinvar(clin_arg, table):\n",
    "    if clin_arg.lower() == 'yes':\n",
    "        clin_statement = \"AND ({}.clin_sig NOT REGEXP '3|2[^5]|2$' AND {}.clin_sig REGEXP '4|[^25]5|^5')\".format(table, table)\n",
    "    elif clin_arg.lower() == 'no':\n",
    "        clin_statement = ''\n",
    "    else:\n",
    "        print \"Enter a 'yes' or 'no' value for clin_patho.\"\n",
    "    return clin_statement\n",
    "\n",
    "def parse_coding(coding_arg, table):\n",
    "    if coding_arg.lower() == 'yes':\n",
    "        coding_statement = \"AND {}.impact = 'HIGH'\".format(table)\n",
    "    elif coding_arg.lower() == 'no':\n",
    "        coding_statement = ''\n",
    "    else:\n",
    "        print \"Enter a 'yes' or 'no' value for coding_impact.\"\n",
    "    return coding_statement\n",
    "\n",
    "def parse_singles(user_arg, table, column, val_type):\n",
    "    if user_arg == 'all':\n",
    "        single_statement = ''\n",
    "    else:\n",
    "        if val_type == 'int':\n",
    "            single_statement = \"AND {}.{} = {}\".format(table, column, int(user_arg))\n",
    "        elif val_type == 'float':\n",
    "            single_statement = \"AND {}.{} = {}\".format(table, column, float(user_arg))\n",
    "        elif val_type == 'string':\n",
    "            single_statement = \"AND {}.{} = '{}'\".format(table, column, str(user_arg))\n",
    "    return single_statement\n",
    "\n",
    "def parse_genotype(gt_arg, tbl_name, platform):\n",
    "    gt_list = []\n",
    "    # if gt_arg = 'all' then leave blank\n",
    "    if gt_arg == 'all':\n",
    "        gt_statement = ''\n",
    "    else:\n",
    "        # if there is more than on gt arg\n",
    "        if len(gt_arg) > 1:\n",
    "            # add a statement to gt_list\n",
    "            gt_list.append(\"AND {}.gt IN ('{}')\".format(tbl_name, \"','\".join(map(str, gt_arg))))\n",
    "        # if there is only one arg\n",
    "        elif len(gt_arg) == 1:\n",
    "            # add a gt '=' statement to the list\n",
    "            gt_list.append(\"AND {}.gt = '{}'\".format(tbl_name, ','.join(map(str, gt_arg))))\n",
    "        return gt_list"
   ]
  },
  {
   "cell_type": "markdown",
   "metadata": {},
   "source": [
    "### Parse User Args"
   ]
  },
  {
   "cell_type": "code",
   "execution_count": 172,
   "metadata": {
    "collapsed": false
   },
   "outputs": [
    {
     "name": "stdout",
     "output_type": "stream",
     "text": [
      "[\"AND var.gt = 'hom_rec'\"]\n"
     ]
    }
   ],
   "source": [
    "members = label_member('vars', member_list)\n",
    "subjects = parse_arg_list('var', 'sample_id', subject_list )                                                \n",
    "genes = parse_arg_list('var', 'gene_name', gene_list )\n",
    "geno = parse_genotype(geno_list, 'var', 'illumina')\n",
    "clin_statement = parse_clinvar(clin_patho, 'vars')\n",
    "kav = parse_singles(max_kav_freq, 'vars', 'kav_freq', 'float')\n",
    "dann = parse_singles(min_dann, 'vars', 'dann_score', 'float')\n",
    "coding = parse_coding(coding_impact, 'vars')"
   ]
  },
  {
   "cell_type": "markdown",
   "metadata": {},
   "source": [
    "### View results"
   ]
  },
  {
   "cell_type": "code",
   "execution_count": 141,
   "metadata": {
    "collapsed": false
   },
   "outputs": [
    {
     "name": "stdout",
     "output_type": "stream",
     "text": [
      "Member statement: = AND (vars.sample_id LIKE '%03' OR vars.sample_id LIKE '%02')\n",
      "Subject statement: = AND var.sample_id LIKE ('102-00511%')\n",
      "Gene list statement: = AND var.gene_name LIKE ('CYP%')\n"
     ]
    },
    {
     "ename": "TypeError",
     "evalue": "cannot concatenate 'str' and 'NoneType' objects",
     "output_type": "error",
     "traceback": [
      "\u001b[0;31m---------------------------------------------------------------------------\u001b[0m",
      "\u001b[0;31mTypeError\u001b[0m                                 Traceback (most recent call last)",
      "\u001b[0;32m<ipython-input-141-b83a00f8645e>\u001b[0m in \u001b[0;36m<module>\u001b[0;34m()\u001b[0m\n\u001b[1;32m      2\u001b[0m \u001b[0;32mprint\u001b[0m \u001b[0;34m'Subject statement: = '\u001b[0m \u001b[0;34m+\u001b[0m \u001b[0msubjects\u001b[0m\u001b[0;34m\u001b[0m\u001b[0m\n\u001b[1;32m      3\u001b[0m \u001b[0;32mprint\u001b[0m \u001b[0;34m'Gene list statement: = '\u001b[0m \u001b[0;34m+\u001b[0m \u001b[0mgenes\u001b[0m\u001b[0;34m\u001b[0m\u001b[0m\n\u001b[0;32m----> 4\u001b[0;31m \u001b[0;32mprint\u001b[0m \u001b[0;34m'Genotype statement: = '\u001b[0m \u001b[0;34m+\u001b[0m \u001b[0mgeno\u001b[0m\u001b[0;34m\u001b[0m\u001b[0m\n\u001b[0m\u001b[1;32m      5\u001b[0m \u001b[0;32mprint\u001b[0m \u001b[0;34m'ClinVar statement: = '\u001b[0m \u001b[0;34m+\u001b[0m \u001b[0mclin_statement\u001b[0m\u001b[0;34m\u001b[0m\u001b[0m\n\u001b[1;32m      6\u001b[0m \u001b[0;32mprint\u001b[0m \u001b[0;34m'Kaviar frequency statement: = '\u001b[0m \u001b[0;34m+\u001b[0m \u001b[0mkav\u001b[0m\u001b[0;34m\u001b[0m\u001b[0m\n",
      "\u001b[0;31mTypeError\u001b[0m: cannot concatenate 'str' and 'NoneType' objects"
     ]
    }
   ],
   "source": [
    "print 'Member statement: = ' + members\n",
    "print 'Subject statement: = ' + subjects\n",
    "print 'Gene list statement: = ' + genes\n",
    "print 'Genotype statement: = ' + geno\n",
    "print 'ClinVar statement: = ' + clin_statement\n",
    "print 'Kaviar frequency statement: = ' + kav\n",
    "print 'DANN score statement: = ' + dann\n",
    "print 'Coding consequences statement: = ' + coding"
   ]
  },
  {
   "cell_type": "code",
   "execution_count": null,
   "metadata": {
    "collapsed": true
   },
   "outputs": [],
   "source": []
  },
  {
   "cell_type": "code",
   "execution_count": null,
   "metadata": {
    "collapsed": true
   },
   "outputs": [],
   "source": [
    "WITH vars AS \n",
    "    (\n",
    "    SELECT * \n",
    "    FROM p7_platform.wgs_illumina_variant \n",
    "        WHERE (subject_id = '102-00511-03' AND subject_id LIKE '%03')\n",
    "        AND gt = '0/1'\n",
    "     ),\n",
    "    gv as (\n",
    "        SELECT * \n",
    "        FROM p7_ref_grch37.global_variants\n",
    "        WHERE kav_freq <= .03 \n",
    "        AND (clin_sig NOT REGEXP '3|2[^5]|2$' AND clin_sig REGEXP '4|[^25]5|^5')\n",
    "        AND dann_score >= 0.96),\n",
    "    cd as (\n",
    "        SELECT * \n",
    "        FROM users_selasady.coding_consequences\n",
    "        WHERE impact = 'HIGH')\n",
    "     \n",
    "SELECT vars.*, gv.kav_freq, gv.clin_sig, gv.clin_dbn, gv.rs_id,\n",
    "    gv.dann_score, gv.ens_gene, gv.ens_geneid, cd.effect, cd.impact,\n",
    "    cd.feature, cd.feature_id, cd.biotype, cd.rank, cd.hgvs_c, cd.hgvs_p\n",
    "    FROM vars, gv, cd\n",
    "    WHERE vars.chrom = gv.chrom\n",
    "    AND cd.chrom = gv.chrom\n",
    "    AND vars.pos = gv.pos\n",
    "    AND cd.pos = gv.pos\n",
    "    AND vars.ref = gv.ref\n",
    "    AND cd.ref = gv.ref\n",
    "    AND vars.alt = gv.alt\n",
    "    AND cd.alt = gv.alt\n",
    "    AND gv.ens_gene LIKE 'CYP%' "
   ]
  },
  {
   "cell_type": "code",
   "execution_count": null,
   "metadata": {
    "collapsed": true
   },
   "outputs": [],
   "source": []
  },
  {
   "cell_type": "code",
   "execution_count": null,
   "metadata": {
    "collapsed": true
   },
   "outputs": [],
   "source": []
  }
 ],
 "metadata": {
  "kernelspec": {
   "display_name": "Python 2",
   "language": "python",
   "name": "python2"
  },
  "language_info": {
   "codemirror_mode": {
    "name": "ipython",
    "version": 2
   },
   "file_extension": ".py",
   "mimetype": "text/x-python",
   "name": "python",
   "nbconvert_exporter": "python",
   "pygments_lexer": "ipython2",
   "version": "2.7.9"
  }
 },
 "nbformat": 4,
 "nbformat_minor": 0
}
