{
 "cells": [
  {
   "cell_type": "markdown",
   "metadata": {},
   "source": [
    "# Python Variant Pipeline"
   ]
  },
  {
   "cell_type": "markdown",
   "metadata": {},
   "source": [
    "Use this python script to connect to impala, find variants in subjects and gene regions of interest, annotate them with the following list of annotations, and save results to a file or impala table: \n",
    "\n",
    "- Kaviar allele frequency\n",
    "- ClinVar significance rating and disorder description\n",
    "- dbSNP rsID\n",
    "- DANN pathogenicity rating\n",
    "- Ensembl gene name and gene id\n",
    "- Predicted coding consequences"
   ]
  },
  {
   "cell_type": "markdown",
   "metadata": {},
   "source": [
    "## Setup your parameters"
   ]
  },
  {
   "cell_type": "markdown",
   "metadata": {},
   "source": [
    "Each of the following parameters should be entered in python list format unless otherwise specified. Or as 'all' to skip that particular filter. "
   ]
  },
  {
   "cell_type": "code",
   "execution_count": 1,
   "metadata": {
    "collapsed": true
   },
   "outputs": [],
   "source": [
    "# list of genes to search in\n",
    "gene_list = ['RAB31']\n",
    "\n",
    "# subject id's to include\n",
    "subject_list = 'all'\n",
    "\n",
    "# members to include (NB, M, F)\n",
    "member_list = 'NB'\n",
    "\n",
    "# max kaviar allele frequency to return as a string\n",
    "max_kav_freq = '.03'\n",
    "\n",
    "# return only variants markes as non-conflicted significant in clinvar\n",
    "# (siginicance rating of 4 or 5, but never 2 or 3)\n",
    "# enter as 'yes' or 'no'\n",
    "clin_patho = 'no'\n",
    "\n",
    "# minimum dann score to return\n",
    "min_dann = 'all'\n",
    "\n",
    "# return only variants with 'HIGH' coding consequences\n",
    "# enter 'yes' or 'no'\n",
    "coding_impact = 'no'"
   ]
  },
  {
   "cell_type": "markdown",
   "metadata": {},
   "source": [
    "## Query impala"
   ]
  },
  {
   "cell_type": "markdown",
   "metadata": {},
   "source": [
    "### Connect to impala"
   ]
  },
  {
   "cell_type": "code",
   "execution_count": null,
   "metadata": {
    "collapsed": true
   },
   "outputs": [],
   "source": []
  }
 ],
 "metadata": {
  "kernelspec": {
   "display_name": "Python 2",
   "language": "python",
   "name": "python2"
  },
  "language_info": {
   "codemirror_mode": {
    "name": "ipython",
    "version": 2
   },
   "file_extension": ".py",
   "mimetype": "text/x-python",
   "name": "python",
   "nbconvert_exporter": "python",
   "pygments_lexer": "ipython2",
   "version": "2.7.10"
  }
 },
 "nbformat": 4,
 "nbformat_minor": 0
}
