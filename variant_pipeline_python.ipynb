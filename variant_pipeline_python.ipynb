{
 "cells": [
  {
   "cell_type": "markdown",
   "metadata": {},
   "source": [
    "# Python Variant Pipeline"
   ]
  },
  {
   "cell_type": "markdown",
   "metadata": {},
   "source": [
    "Use this python script to connect to impala, find variants in subjects and gene regions of interest, annotate them with the following list of annotations, and save results to a file or impala table: \n",
    "\n",
    "- Kaviar allele frequency\n",
    "- ClinVar significance rating and disorder description\n",
    "- dbSNP rsID\n",
    "- DANN pathogenicity rating\n",
    "- Ensembl gene name and gene id\n",
    "- Predicted coding consequences"
   ]
  },
  {
   "cell_type": "markdown",
   "metadata": {},
   "source": [
    "## Setup your parameters"
   ]
  },
  {
   "cell_type": "markdown",
   "metadata": {},
   "source": [
    "Each of the following parameters should be entered in python list format unless otherwise specified. Or as 'all' to skip that particular filter. "
   ]
  },
  {
   "cell_type": "code",
   "execution_count": 81,
   "metadata": {
    "collapsed": true
   },
   "outputs": [],
   "source": [
    "# list of genes to search in\n",
    "gene_list = ['CYP%']\n",
    "\n",
    "# subject id's to include\n",
    "subject_list = 'all'\n",
    "\n",
    "# members to include (NB, M, F)\n",
    "member_list = ['NB']\n",
    "\n",
    "# genotype to include ('hom_rec', 'hom_alt', 'het')\n",
    "geno_list = ['hom_rec']\n",
    "\n",
    "# max kaviar allele frequency to return as a string\n",
    "max_kav_freq = '.03'\n",
    "\n",
    "# return only variants markes as non-conflicted significant in clinvar\n",
    "# (siginicance rating of 4 or 5, but never 2 or 3)\n",
    "# enter as 'yes' or 'no'\n",
    "clin_patho = 'yes'\n",
    "\n",
    "# minimum dann score to return\n",
    "min_dann = 'all'\n",
    "\n",
    "# return only variants with 'HIGH' coding consequences\n",
    "# enter 'yes' or 'no'\n",
    "coding_impact = 'no'\n",
    "\n",
    "# enter variant type as string 'illumina' or 'comgen'\n",
    "variant_type = 'illumina'"
   ]
  },
  {
   "cell_type": "markdown",
   "metadata": {},
   "source": [
    "## Query impala"
   ]
  },
  {
   "cell_type": "markdown",
   "metadata": {},
   "source": [
    "### Connect to impala"
   ]
  },
  {
   "cell_type": "code",
   "execution_count": null,
   "metadata": {
    "collapsed": true
   },
   "outputs": [],
   "source": [
    "import ibis\n",
    "import os\n",
    "\n",
    "# connect to impala with ibis\n",
    "hdfs_port = os.environ.get('glados20', 50070)\n",
    "hdfs = ibis.hdfs_connect(host='glados20', port=hdfs_port, user='selasady')\n",
    "con = ibis.impala.connect(host='glados19', port=21050, timeout=120)\n",
    "\n",
    "# enable interactive mode\n",
    "ibis.options.interactive = True"
   ]
  },
  {
   "cell_type": "markdown",
   "metadata": {},
   "source": [
    "### Parse User Arguments"
   ]
  },
  {
   "cell_type": "code",
   "execution_count": 79,
   "metadata": {
    "collapsed": false
   },
   "outputs": [],
   "source": [
    "def label_member(tbl_name, trio_arg):\n",
    "    \"\"\"\n",
    "    function to create a sql statement from user trio argument for which\n",
    "    trio members to include in analysis\n",
    "    :param tbl_name: alias of tablename used in query as string, ex. 'bv'\n",
    "    :param trio_arg: list of trio members to include, ex. 'M','F','NB'\n",
    "    :return: member_arg\n",
    "    \"\"\"\n",
    "    member_list = []\n",
    "    for member in trio_arg:\n",
    "        if member == 'NB':\n",
    "            member_list.append(\"{}.sample_id LIKE '%03'\".format(tbl_name))\n",
    "        if member == 'M':\n",
    "            member_list.append(\"{}.sample_id LIKE '%01'\".format(tbl_name))\n",
    "        if member == 'F':\n",
    "            member_list.append(\"{}.sample_id LIKE '%02'\".format(tbl_name))\n",
    "        if member_list == 'all':\n",
    "            member_list =''\n",
    "    if len(member_list) > 0:\n",
    "        member_arg = 'AND (' + ' OR '.join(member_list) + ')'\n",
    "    # otherwise statment is empty\n",
    "    else:\n",
    "        member_arg = ''\n",
    "    return member_arg\n",
    "\n",
    "def parse_arg_list(tbl_name, col_name, arg_list):\n",
    "    \"\"\"\n",
    "    format user arg lists \n",
    "    :param tbl_name: alias of tablename used in query as string, ex. 'vars'\n",
    "    :param arg_list: user arg list to parse\n",
    "    :return: query_arg assign to a variable to create sql statements\n",
    "    \"\"\"\n",
    "    wildcard_arg=[]\n",
    "    reg_arg = []\n",
    "    args = []\n",
    "    if arg_list != 'all':\n",
    "        for arg in arg_list:\n",
    "            if '%' in arg:\n",
    "                wildcard_arg.append(arg)\n",
    "            else: \n",
    "                reg_arg.append(arg)\n",
    "    else:\n",
    "        reg_arg = ''\n",
    "        wildcard_arg = ''\n",
    "    if len(wildcard_arg) > 1:\n",
    "        for arg in wildcard_arg:\n",
    "            args.append(\"OR {}.{} LIKE ('{}')\".format(tbl_name, col_name, arg))\n",
    "    if len(reg_arg) == 1:\n",
    "        args.append(\"OR {}.{} = '{}'\".format(tbl_name, col_name, \"','\".join(reg_arg)))\n",
    "    if len(reg_arg) > 1:\n",
    "        args.append(\"OR {}.{} IN ('{}')\".format(tbl_name, col_name, \"','\".join(reg_arg)))\n",
    "    query_statement = ' '.join(args).replace('OR', 'AND', 1)\n",
    "    return query_statement\n",
    "\n",
    "def parse_clinvar(clin_arg, table):\n",
    "    if clin_arg.lower == 'yes':\n",
    "        clin_statement = \"WHERE ({}.clin_sig NOT REGEXP '3|2[^5]|2$' AND {}.clin_sig REGEXP '4|[^25]5|^5')\".format(table, table)\n",
    "    else:\n",
    "        clin_statement = ''\n",
    "    return clin_statement"
   ]
  },
  {
   "cell_type": "code",
   "execution_count": 82,
   "metadata": {
    "collapsed": false
   },
   "outputs": [
    {
     "data": {
      "text/plain": [
       "''"
      ]
     },
     "execution_count": 82,
     "metadata": {},
     "output_type": "execute_result"
    }
   ],
   "source": [
    "parse_clinvar(clin_patho, 'vars')"
   ]
  },
  {
   "cell_type": "code",
   "execution_count": 68,
   "metadata": {
    "collapsed": false
   },
   "outputs": [],
   "source": [
    "members = label_member('vars', member_list)\n",
    "subjects = parse_arg_list('var', 'sample_id', subject_list )                                                \n",
    "genes = parse_arg_list('var', 'gene_name', gene_list )\n",
    "geno = parse_arg_list('var', 'genotype', geno_list)"
   ]
  },
  {
   "cell_type": "code",
   "execution_count": 69,
   "metadata": {
    "collapsed": false
   },
   "outputs": [
    {
     "name": "stdout",
     "output_type": "stream",
     "text": [
      "AND var.genotype = 'hom_rec'\n"
     ]
    }
   ],
   "source": [
    "print geno"
   ]
  },
  {
   "cell_type": "code",
   "execution_count": null,
   "metadata": {
    "collapsed": true
   },
   "outputs": [],
   "source": []
  }
 ],
 "metadata": {
  "kernelspec": {
   "display_name": "Python 2",
   "language": "python",
   "name": "python2"
  },
  "language_info": {
   "codemirror_mode": {
    "name": "ipython",
    "version": 2
   },
   "file_extension": ".py",
   "mimetype": "text/x-python",
   "name": "python",
   "nbconvert_exporter": "python",
   "pygments_lexer": "ipython2",
   "version": "2.7.10"
  }
 },
 "nbformat": 4,
 "nbformat_minor": 0
}
