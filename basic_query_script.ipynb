{
 "cells": [
  {
   "cell_type": "markdown",
   "metadata": {},
   "source": [
    "# Run a query on impala and save results as pandas dataframe"
   ]
  },
  {
   "cell_type": "markdown",
   "metadata": {},
   "source": [
    "## Make a connection object"
   ]
  },
  {
   "cell_type": "code",
   "execution_count": 1,
   "metadata": {
    "collapsed": true
   },
   "outputs": [],
   "source": [
    "# import needed modules\n",
    "from impala.util import as_pandas\n",
    "import pandas as pd\n",
    "from impala.dbapi import connect\n",
    "\n",
    "# disable extraneous pandas warning\n",
    "pd.options.mode.chained_assignment = None"
   ]
  },
  {
   "cell_type": "markdown",
   "metadata": {},
   "source": [
    "## Enter your impala host name"
   ]
  },
  {
   "cell_type": "code",
   "execution_count": 2,
   "metadata": {
    "collapsed": true
   },
   "outputs": [],
   "source": [
    "impala_host = 'glados19'"
   ]
  },
  {
   "cell_type": "markdown",
   "metadata": {},
   "source": [
    "## Enter your query below"
   ]
  },
  {
   "cell_type": "code",
   "execution_count": 6,
   "metadata": {
    "collapsed": true
   },
   "outputs": [],
   "source": [
    "query = '''\n",
    "\n",
    "SELECT * \n",
    "FROM training.all_vars\n",
    "LIMIT 5\n",
    "'''"
   ]
  },
  {
   "cell_type": "markdown",
   "metadata": {},
   "source": [
    "## Create a function to run the query"
   ]
  },
  {
   "cell_type": "code",
   "execution_count": 4,
   "metadata": {
    "collapsed": true
   },
   "outputs": [],
   "source": [
    "def run_query(query_name):\n",
    "    \"\"\"\n",
    "    opens odbc connection and runs query\n",
    "     saves results as table, closes connection\n",
    "    :param query_name: name of query statement to run\n",
    "    :param out_db: name of output database\n",
    "    :param out_name: name of output table name\n",
    "    :return: table of results saved on impala in specified output dir\n",
    "    \"\"\"\n",
    "    # create connection object\n",
    "    conn=connect(host=impala_host, port=21050, timeout=120)\n",
    "    cur = conn.cursor()\n",
    "    # run query\n",
    "    print 'Running the query on impala....'\n",
    "    cur.execute(query_name)\n",
    "    # download results as pandas dataframe\n",
    "    results_df = as_pandas(cur)\n",
    "    if len(results_df) > 0:\n",
    "        print 'Query finished. Closing connection.'\n",
    "        return results_df\n",
    "    else:\n",
    "        print 'No results found.'\n",
    "    cur.close()\n",
    "    conn.close()"
   ]
  },
  {
   "cell_type": "markdown",
   "metadata": {},
   "source": [
    "## Run the Query, Downloading Results as a Pandas dataframe"
   ]
  },
  {
   "cell_type": "code",
   "execution_count": 7,
   "metadata": {
    "collapsed": false
   },
   "outputs": [
    {
     "name": "stdout",
     "output_type": "stream",
     "text": [
      "Running the query on impala....\n",
      "Query finished. Closing connection.\n"
     ]
    }
   ],
   "source": [
    "# run query to save result as pandas data frame\n",
    "results_df = run_query(query)"
   ]
  },
  {
   "cell_type": "code",
   "execution_count": 8,
   "metadata": {
    "collapsed": false
   },
   "outputs": [
    {
     "name": "stdout",
     "output_type": "stream",
     "text": [
      "  chrom       pos ref alt        rs_id clin_sig clin_dbn  kav_freq  \\\n",
      "0    21  31779418   T   A         None     None     None  0.000038   \n",
      "1     3  10226613   G   A  rs553480090     None     None  0.001959   \n",
      "2     8  42830355   G   A  rs557527098     None     None  0.000038   \n",
      "3    19  35786392   T   C  rs532456089     None     None  0.000006   \n",
      "4     8  97083996   T   C         None     None     None  0.000307   \n",
      "\n",
      "                                          kav_source dbsnp_build var_type  \n",
      "0                                              UK10K        None     None  \n",
      "1  ADNI|ISB_founders|Inova_CGI_founders|Inova_Ill...         142      SNV  \n",
      "2                                         phase3-KHV         142      SNV  \n",
      "3                                         phase3-PEL         142      SNV  \n",
      "4          GS000016372|Inova_Illumina_founders|UK10K        None     None  \n"
     ]
    }
   ],
   "source": [
    "print results_df.head(5)"
   ]
  },
  {
   "cell_type": "markdown",
   "metadata": {},
   "source": [
    "And now you have a pandas dataframe for downstream analysis! "
   ]
  }
 ],
 "metadata": {
  "kernelspec": {
   "display_name": "Python 2",
   "language": "python",
   "name": "python2"
  },
  "language_info": {
   "codemirror_mode": {
    "name": "ipython",
    "version": 2
   },
   "file_extension": ".py",
   "mimetype": "text/x-python",
   "name": "python",
   "nbconvert_exporter": "python",
   "pygments_lexer": "ipython2",
   "version": "2.7.10"
  }
 },
 "nbformat": 4,
 "nbformat_minor": 0
}
