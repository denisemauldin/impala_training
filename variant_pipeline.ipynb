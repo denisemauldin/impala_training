{
 "cells": [
  {
   "cell_type": "markdown",
   "metadata": {},
   "source": [
    "# Python Variant Pipeline"
   ]
  },
  {
   "cell_type": "markdown",
   "metadata": {},
   "source": [
    "Use this python script to connect to impala, find variants in subjects and gene regions of interest, annotate them with the following list of annotations, and save results to a file or impala table: \n",
    "\n",
    "- Kaviar allele frequency\n",
    "- ClinVar significance rating and disorder description\n",
    "- dbSNP rsID\n",
    "- DANN pathogenicity rating\n",
    "- Ensembl gene name and gene id\n",
    "- Predicted coding consequence"
   ]
  },
  {
   "cell_type": "markdown",
   "metadata": {},
   "source": [
    "## Setup your parameters"
   ]
  },
  {
   "cell_type": "code",
   "execution_count": 103,
   "metadata": {
    "collapsed": false
   },
   "outputs": [],
   "source": [
    "# list of genes to search in\n",
    "gene_list = ['RAB31','CYP%']\n",
    "\n",
    "# subject id's to include\n",
    "#subject_list = 'all'\n",
    "subject_list = ['55', '60']\n",
    "# members to include (NB, M, F)\n",
    "member_list = ['NB']\n",
    "\n",
    "# max kaviar allele frequency to return as a string\n",
    "max_kav_freq = '.03'\n",
    "\n",
    "# return only variants markes as non-conflicted significant in clinvar\n",
    "# (siginicance rating of 4 or 5, but never 2 or 3)\n",
    "# enter as 'yes' or 'no'\n",
    "clin_patho = 'no'\n",
    "\n",
    "# minimum dann score to return\n",
    "min_dann = 'all'\n",
    "\n",
    "# return only variants with 'HIGH' coding consequences\n",
    "# enter 'yes' or 'no'\n",
    "coding_impact = 'no'\n",
    "\n",
    "# enter variant type as string 'illumina' or 'comgen'\n",
    "variant_type = 'illumina'"
   ]
  },
  {
   "cell_type": "markdown",
   "metadata": {},
   "source": [
    "## Query Impala"
   ]
  },
  {
   "cell_type": "markdown",
   "metadata": {},
   "source": [
    "### Connect to impala"
   ]
  },
  {
   "cell_type": "markdown",
   "metadata": {},
   "source": [
    "Update these arguments to match with your server and user name."
   ]
  },
  {
   "cell_type": "code",
   "execution_count": 2,
   "metadata": {
    "collapsed": false
   },
   "outputs": [],
   "source": [
    "import ibis\n",
    "import os\n",
    "\n",
    "# connect to impala with ibis\n",
    "hdfs_port = os.environ.get('glados20', 50070)\n",
    "hdfs = ibis.hdfs_connect(host='glados20', port=hdfs_port, user='selasady')\n",
    "con = ibis.impala.connect(host='glados19', port=21050, timeout=120)\n",
    "\n",
    "# enable interactive mode\n",
    "ibis.options.interactive = True"
   ]
  },
  {
   "cell_type": "markdown",
   "metadata": {},
   "source": [
    "### Format user arguments"
   ]
  },
  {
   "cell_type": "code",
   "execution_count": 147,
   "metadata": {
    "collapsed": false
   },
   "outputs": [],
   "source": [
    "def label_member(tbl_name, trio_arg):\n",
    "    \"\"\"\n",
    "    function to create a sql statement from user trio argument for which\n",
    "    trio members to include in analysis\n",
    "    :param tbl_name: alias of tablename used in query as string, ex. 'bv'\n",
    "    :param trio_arg: list of trio members to include, ex. 'M','F','NB'\n",
    "    :return: member_arg\n",
    "    \"\"\"\n",
    "    member_list = []\n",
    "    for member in trio_arg:\n",
    "        if member == 'NB':\n",
    "            member_list.append(\"{}.sample_id LIKE '%03'\".format(tbl_name))\n",
    "        if member == 'M':\n",
    "            member_list.append(\"{}.sample_id LIKE '%01'\".format(tbl_name))\n",
    "        if member == 'F':\n",
    "            member_list.append(\"{}.sample_id LIKE '%02'\".format(tbl_name))\n",
    "        if member_list == 'all':\n",
    "            member_list =''\n",
    "    if len(member_list) > 0:\n",
    "        member_arg = 'AND (' + ' OR '.join(member_list) + ')'\n",
    "    # otherwise statment is empty\n",
    "    else:\n",
    "        member_arg = ''\n",
    "    return member_arg\n",
    "\n",
    "members = label_member('vars', member_list)\n",
    "\n",
    "def parse_arg_list(tbl_name, col_name, arg_list):\n",
    "    \"\"\"\n",
    "    format user arg lists \n",
    "    :param tbl_name: alias of tablename used in query as string, ex. 'vars'\n",
    "    :param arg_list: user arg list to parse\n",
    "    :return: query_arg assign to a variable to create sql statements\n",
    "    \"\"\"\n",
    "    wildcard_arg=[]\n",
    "    reg_arg = []\n",
    "    if arg_list != 'all':\n",
    "        for arg in arg_list:\n",
    "            if '%' in arg:\n",
    "                wildcard_arg.append(arg)\n",
    "            else: \n",
    "                reg_arg.append(arg)\n",
    "                #reg_arg.append(\"AND {}.{} IN ('{}')\".format(tbl_name, col_name, arg))\n",
    "    else:\n",
    "        reg_arg = ''\n",
    "        wildcard_arg = ''\n",
    "    return reg_arg, wildcard_arg\n",
    "                                                  \n",
    "test1,test2 = parse_arg_list('var', 'sample_id', subject_list )                                                \n",
    "genes = parse_arg_list('var', 'gene_name', gene_list ) \n",
    "\n",
    "\n",
    "# def join_args(arg_list):\n",
    "#     \"\"\"\n",
    "#     joins together sql statements, adding 'WITH' to\n",
    "#     first argument, and AND to each following arg\n",
    "#     :param arg_list: list of sql statements to join\n",
    "#     :return: subject_statement\n",
    "#     \"\"\"\n",
    "#     if len(arg_list) > 0:\n",
    "#         subject_statement = ' '.join(arg_list)\n",
    "#     # otherwise return empty string\n",
    "#     else:\n",
    "#         subject_statement = ''\n",
    "#     return subject_statement"
   ]
  },
  {
   "cell_type": "code",
   "execution_count": 148,
   "metadata": {
    "collapsed": false
   },
   "outputs": [
    {
     "name": "stdout",
     "output_type": "stream",
     "text": [
      "AND (vars.sample_id LIKE '%03')\n",
      "['55', '60'] []\n",
      "(['RAB31'], ['CYP%'])\n"
     ]
    }
   ],
   "source": [
    "print members\n",
    "print test1,test2\n",
    "print genes"
   ]
  },
  {
   "cell_type": "code",
   "execution_count": null,
   "metadata": {
    "collapsed": true
   },
   "outputs": [],
   "source": [
    "if variant_type = 'illumina'"
   ]
  },
  {
   "cell_type": "code",
   "execution_count": null,
   "metadata": {
    "collapsed": true
   },
   "outputs": [],
   "source": []
  }
 ],
 "metadata": {
  "kernelspec": {
   "display_name": "Python 2",
   "language": "python",
   "name": "python2"
  },
  "language_info": {
   "codemirror_mode": {
    "name": "ipython",
    "version": 2
   },
   "file_extension": ".py",
   "mimetype": "text/x-python",
   "name": "python",
   "nbconvert_exporter": "python",
   "pygments_lexer": "ipython2",
   "version": "2.7.10"
  }
 },
 "nbformat": 4,
 "nbformat_minor": 0
}
